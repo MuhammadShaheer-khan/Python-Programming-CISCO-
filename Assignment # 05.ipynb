{
 "cells": [
  {
   "cell_type": "markdown",
   "metadata": {},
   "source": [
    "# Question:1\n",
    "# Write a Python function to calculate the factorial of a number (a non-negativeinteger). The function accepts the number as an argument."
   ]
  },
  {
   "cell_type": "code",
   "execution_count": 15,
   "metadata": {},
   "outputs": [
    {
     "name": "stdout",
     "output_type": "stream",
     "text": [
      "Enter the number to compute the factorial: 5\n",
      "120\n"
     ]
    }
   ],
   "source": [
    "def factorial(number):\n",
    "    if number !=0:\n",
    "        return number * factorial(number-1)\n",
    "    else:\n",
    "        return 1\n",
    "\n",
    "number = int(input('Enter the number to compute the factorial: '))\n",
    "print(factorial(number))"
   ]
  },
  {
   "cell_type": "code",
   "execution_count": 16,
   "metadata": {},
   "outputs": [
    {
     "name": "stdout",
     "output_type": "stream",
     "text": [
      "Enter the number to compute the factorial: 0\n",
      "1\n"
     ]
    }
   ],
   "source": [
    "def factorial(number):\n",
    "    if number !=0:\n",
    "        return number * factorial(number-1)\n",
    "    else:\n",
    "        return 1\n",
    "\n",
    "number = int(input('Enter the number to compute the factorial: '))\n",
    "print(factorial(number))"
   ]
  },
  {
   "cell_type": "markdown",
   "metadata": {},
   "source": [
    "# Question:2\n",
    "# Write a Python function that accepts a string and calculate the number of uppercase letters and lower case letters."
   ]
  },
  {
   "cell_type": "code",
   "execution_count": 18,
   "metadata": {},
   "outputs": [],
   "source": [
    "def string_ULcase(string):\n",
    "    str_format ={'UPPER CASE':0, \"lower case\":0}\n",
    "    for i in string:\n",
    "        if i.isupper():\n",
    "            str_format['UPPER CASE']+=1\n",
    "        elif i.islower():\n",
    "            str_format['lower case']+=1\n",
    "        else:\n",
    "            pass\n",
    "            \n",
    "    print('Given String is :', string)\n",
    "    print('No. of Upper case characters :', str_format[\"UPPER CASE\"])\n",
    "    print('No. of Lower case Characters :', str_format['lower case'])"
   ]
  },
  {
   "cell_type": "code",
   "execution_count": 19,
   "metadata": {},
   "outputs": [
    {
     "name": "stdout",
     "output_type": "stream",
     "text": [
      "Given String is : My Name Is MUHAMMAD SHAHeeR Khan\n",
      "No. of Upper case characters : 17\n",
      "No. of Lower case Characters : 10\n"
     ]
    }
   ],
   "source": [
    "string_ULcase('My Name Is MUHAMMAD SHAHeeR Khan')"
   ]
  },
  {
   "cell_type": "markdown",
   "metadata": {},
   "source": [
    "# Question:3\n",
    "# Write a Python function to print the even numbers from a given list."
   ]
  },
  {
   "cell_type": "code",
   "execution_count": 21,
   "metadata": {},
   "outputs": [],
   "source": [
    "def even_num(n):\n",
    "    enum = []\n",
    "    for i in n:\n",
    "        if i % 2 == 0:\n",
    "            enum.append(i)\n",
    "    return enum"
   ]
  },
  {
   "cell_type": "code",
   "execution_count": 22,
   "metadata": {},
   "outputs": [
    {
     "data": {
      "text/plain": [
       "[2, 50, 100, 120, 180]"
      ]
     },
     "execution_count": 22,
     "metadata": {},
     "output_type": "execute_result"
    }
   ],
   "source": [
    "even_num([2,25,50,75,100,120,141,187,180])"
   ]
  },
  {
   "cell_type": "markdown",
   "metadata": {},
   "source": [
    "# Question:4\n",
    "# Write a Python function that checks whether a passed string is palindrome or not.\n",
    "# Note: A palindrome is a word, phrase, or sequence that reads the same backward as forward, e.g., madam"
   ]
  },
  {
   "cell_type": "code",
   "execution_count": 24,
   "metadata": {},
   "outputs": [],
   "source": [
    "def Palindrome(string):\n",
    "    left_pos = 0\n",
    "    right_pos = len(string) - 1\n",
    "    \n",
    "    while right_pos >= left_pos:\n",
    "        if not string[left_pos] == string[right_pos]:\n",
    "            return False\n",
    "        left_pos += 1\n",
    "        right_pos -= 1\n",
    "    return True"
   ]
  },
  {
   "cell_type": "code",
   "execution_count": 25,
   "metadata": {},
   "outputs": [
    {
     "data": {
      "text/plain": [
       "True"
      ]
     },
     "execution_count": 25,
     "metadata": {},
     "output_type": "execute_result"
    }
   ],
   "source": [
    "Palindrome('level')"
   ]
  },
  {
   "cell_type": "markdown",
   "metadata": {},
   "source": [
    "# Question:5\n",
    "# Write a Python function that takes a number as a parameter and check the number is prime or not."
   ]
  },
  {
   "cell_type": "code",
   "execution_count": 28,
   "metadata": {},
   "outputs": [],
   "source": [
    "def prime(n):\n",
    "    if (n==1):\n",
    "        return False\n",
    "    elif (n==2):\n",
    "        return True\n",
    "    else:\n",
    "        for x in range(2,n):\n",
    "            if(n % x==0):\n",
    "                return False\n",
    "    return True"
   ]
  },
  {
   "cell_type": "code",
   "execution_count": 29,
   "metadata": {},
   "outputs": [
    {
     "data": {
      "text/plain": [
       "True"
      ]
     },
     "execution_count": 29,
     "metadata": {},
     "output_type": "execute_result"
    }
   ],
   "source": [
    "prime(7)"
   ]
  },
  {
   "cell_type": "code",
   "execution_count": 30,
   "metadata": {},
   "outputs": [
    {
     "data": {
      "text/plain": [
       "True"
      ]
     },
     "execution_count": 30,
     "metadata": {},
     "output_type": "execute_result"
    }
   ],
   "source": [
    "prime(5)"
   ]
  },
  {
   "cell_type": "code",
   "execution_count": 31,
   "metadata": {},
   "outputs": [
    {
     "data": {
      "text/plain": [
       "False"
      ]
     },
     "execution_count": 31,
     "metadata": {},
     "output_type": "execute_result"
    }
   ],
   "source": [
    "prime(14)"
   ]
  },
  {
   "cell_type": "markdown",
   "metadata": {},
   "source": [
    "# Question: 6\n",
    "# Suppose a customer is shopping in a market and you need to print all the items which user bought from market.\n",
    "\n",
    "# Write a function which accepts the multiple arguments of user shopping list and print all the items which user bought from market.\n",
    "(Hint: Arbitrary Argument concept can make this task ease)"
   ]
  },
  {
   "cell_type": "code",
   "execution_count": 32,
   "metadata": {},
   "outputs": [
    {
     "name": "stdout",
     "output_type": "stream",
     "text": [
      "\n",
      "Enter the item you bought from market \n",
      "If you leave enter'quit': iphone X\n",
      "\n",
      "Enter the item you bought from market \n",
      "If you leave enter'quit': Honda CD-70\n",
      "\n",
      "Enter the item you bought from market \n",
      "If you leave enter'quit': Watch\n",
      "\n",
      "Enter the item you bought from market \n",
      "If you leave enter'quit': Sun Glasses\n",
      "\n",
      "Enter the item you bought from market \n",
      "If you leave enter'quit': Cowboy Hat\n",
      "\n",
      "Enter the item you bought from market \n",
      "If you leave enter'quit': quit\n"
     ]
    }
   ],
   "source": [
    "def customer_shopping(shopping_list):    \n",
    "    for element in shopping_list:\n",
    "        print(\"You bought: \",element)\n",
    "\n",
    "shopping_lst = []\n",
    "\n",
    "while True:\n",
    "    items = input(\"\\nEnter the item you bought from market \\nIf you leave enter'quit': \")\n",
    "    if items == 'quit':\n",
    "        break\n",
    "    shopping_lst.append(items)"
   ]
  },
  {
   "cell_type": "code",
   "execution_count": null,
   "metadata": {},
   "outputs": [],
   "source": []
  }
 ],
 "metadata": {
  "kernelspec": {
   "display_name": "Python 3",
   "language": "python",
   "name": "python3"
  },
  "language_info": {
   "codemirror_mode": {
    "name": "ipython",
    "version": 3
   },
   "file_extension": ".py",
   "mimetype": "text/x-python",
   "name": "python",
   "nbconvert_exporter": "python",
   "pygments_lexer": "ipython3",
   "version": "3.6.4"
  }
 },
 "nbformat": 4,
 "nbformat_minor": 2
}
