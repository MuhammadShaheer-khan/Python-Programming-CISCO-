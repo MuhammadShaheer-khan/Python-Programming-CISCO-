{
 "cells": [
  {
   "cell_type": "markdown",
   "metadata": {},
   "source": [
    "* Question1:\n",
    "* Use a dictionary to store information about a person you know. Store their first name, last name, age, and the city in which they live. You should have keys such as first_name, last_name, age, and city. Print each piece of information stored in your dictionary. Add a new key value pair about qualification then update the qualification value to high academic level then delete it."
   ]
  },
  {
   "cell_type": "code",
   "execution_count": 14,
   "metadata": {},
   "outputs": [],
   "source": [
    "Dic1= {'first_name':'Shaheer','last_name':'Khan','age':19,'city':'Karachi'}"
   ]
  },
  {
   "cell_type": "code",
   "execution_count": 15,
   "metadata": {},
   "outputs": [
    {
     "data": {
      "text/plain": [
       "'Shaheer'"
      ]
     },
     "execution_count": 15,
     "metadata": {},
     "output_type": "execute_result"
    }
   ],
   "source": [
    "Dic1['first_name']"
   ]
  },
  {
   "cell_type": "code",
   "execution_count": 16,
   "metadata": {},
   "outputs": [
    {
     "data": {
      "text/plain": [
       "{'first_name': 'Shaheer',\n",
       " 'last_name': 'Khan',\n",
       " 'age': 19,\n",
       " 'city': 'Karachi',\n",
       " 'qualification': 'intermediate'}"
      ]
     },
     "execution_count": 16,
     "metadata": {},
     "output_type": "execute_result"
    }
   ],
   "source": [
    "Dic1.update({'qualification':'intermediate'})\n",
    "Dic1"
   ]
  },
  {
   "cell_type": "code",
   "execution_count": 17,
   "metadata": {},
   "outputs": [],
   "source": [
    "Dic1['qualification']='high academic level'"
   ]
  },
  {
   "cell_type": "code",
   "execution_count": 18,
   "metadata": {},
   "outputs": [
    {
     "data": {
      "text/plain": [
       "{'first_name': 'Shaheer',\n",
       " 'last_name': 'Khan',\n",
       " 'age': 19,\n",
       " 'city': 'Karachi',\n",
       " 'qualification': 'high academic level'}"
      ]
     },
     "execution_count": 18,
     "metadata": {},
     "output_type": "execute_result"
    }
   ],
   "source": [
    "Dic1"
   ]
  },
  {
   "cell_type": "code",
   "execution_count": 21,
   "metadata": {},
   "outputs": [],
   "source": [
    "del Dic1['qualification']"
   ]
  },
  {
   "cell_type": "code",
   "execution_count": 22,
   "metadata": {},
   "outputs": [
    {
     "data": {
      "text/plain": [
       "{'first_name': 'Shaheer', 'last_name': 'Khan', 'age': 19, 'city': 'Karachi'}"
      ]
     },
     "execution_count": 22,
     "metadata": {},
     "output_type": "execute_result"
    }
   ],
   "source": [
    "Dic1"
   ]
  },
  {
   "cell_type": "markdown",
   "metadata": {},
   "source": [
    "* Question2:\n",
    "* Make a dictionary called cities. Use the names of three cities as keys in your dictionary. Create a dictionary of information about each city and include the country that the city is in, its approximate population, and one fact about that city. The keys for each city’s dictionary should be something like country, population, and fact. Print the name of each city and all of the information you have stored about it."
   ]
  },
  {
   "cell_type": "code",
   "execution_count": 27,
   "metadata": {},
   "outputs": [],
   "source": [
    "cities = {'Karachi': {\n",
    "        'country': 'Pakistan',\n",
    "        'population': 20000000,\n",
    "        'fact': 'Mazar-e-Quaid',\n",
    "        },\n",
    "        'Istanbul': {\n",
    "        'country': 'Turkey',\n",
    "        'population': 1500000,\n",
    "        'fact': 'Mount Ararat',},\n",
    "        'kathmandu': {\n",
    "        'country': 'nepal',\n",
    "        'population': 1003285,\n",
    "        'fact': 'himilaya',\n",
    "        }}"
   ]
  },
  {
   "cell_type": "code",
   "execution_count": 28,
   "metadata": {},
   "outputs": [
    {
     "data": {
      "text/plain": [
       "{'Karachi': {'country': 'Pakistan',\n",
       "  'population': 20000000,\n",
       "  'fact': 'Mazar-e-Quaid'},\n",
       " 'Istanbul': {'country': 'Turkey',\n",
       "  'population': 1500000,\n",
       "  'fact': 'Mount Ararat'},\n",
       " 'kathmandu': {'country': 'nepal', 'population': 1003285, 'fact': 'himilaya'}}"
      ]
     },
     "execution_count": 28,
     "metadata": {},
     "output_type": "execute_result"
    }
   ],
   "source": [
    "cities"
   ]
  },
  {
   "cell_type": "code",
   "execution_count": 29,
   "metadata": {},
   "outputs": [
    {
     "data": {
      "text/plain": [
       "{'country': 'Pakistan', 'population': 20000000, 'fact': 'Mazar-e-Quaid'}"
      ]
     },
     "execution_count": 29,
     "metadata": {},
     "output_type": "execute_result"
    }
   ],
   "source": [
    "cities['Karachi']"
   ]
  },
  {
   "cell_type": "code",
   "execution_count": 30,
   "metadata": {},
   "outputs": [
    {
     "data": {
      "text/plain": [
       "{'country': 'Turkey', 'population': 1500000, 'fact': 'Mount Ararat'}"
      ]
     },
     "execution_count": 30,
     "metadata": {},
     "output_type": "execute_result"
    }
   ],
   "source": [
    "cities['Istanbul']"
   ]
  },
  {
   "cell_type": "code",
   "execution_count": 31,
   "metadata": {},
   "outputs": [
    {
     "data": {
      "text/plain": [
       "{'country': 'nepal', 'population': 1003285, 'fact': 'himilaya'}"
      ]
     },
     "execution_count": 31,
     "metadata": {},
     "output_type": "execute_result"
    }
   ],
   "source": [
    "cities['kathmandu']"
   ]
  },
  {
   "cell_type": "markdown",
   "metadata": {},
   "source": [
    "* Question3:\n",
    "* A movie theater charges different ticket prices depending on a person’s age. If a person is under the age of 3, the ticket is free; if they are between 3 and 12, the ticket is 10 dollar; and if they are over age 12, the ticket is 15 dollar. Write a loop in which you ask users their age, and then tell them the cost of their movie ticket."
   ]
  },
  {
   "cell_type": "code",
   "execution_count": 36,
   "metadata": {},
   "outputs": [
    {
     "name": "stdout",
     "output_type": "stream",
     "text": [
      "How old are you? 11\n",
      "the ticket is 10 dollar\n"
     ]
    }
   ],
   "source": [
    "Age = int(input(\"How old are you? \"))\n",
    "\n",
    "if Age <=3:\n",
    "    print('Your ticket is free enjoy the movie')\n",
    "\n",
    "elif Age<12:\n",
    "    print('the ticket is 10 dollar')\n",
    "\n",
    "elif Age > 12:\n",
    "    print(\" the ticket is 15 dollar\")"
   ]
  },
  {
   "cell_type": "code",
   "execution_count": 37,
   "metadata": {},
   "outputs": [
    {
     "name": "stdout",
     "output_type": "stream",
     "text": [
      "How old are you? 3\n",
      "Your ticket is free enjoy the movie\n"
     ]
    }
   ],
   "source": [
    "Age = int(input(\"How old are you? \"))\n",
    "\n",
    "if Age <=3:\n",
    "    print('Your ticket is free enjoy the movie')\n",
    "\n",
    "elif Age<12:\n",
    "    print('the ticket is 10 dollar')\n",
    "\n",
    "elif Age > 12:\n",
    "    print(\" the ticket is 15 dollar\")"
   ]
  },
  {
   "cell_type": "code",
   "execution_count": 38,
   "metadata": {},
   "outputs": [
    {
     "name": "stdout",
     "output_type": "stream",
     "text": [
      "How old are you? 14\n",
      " the ticket is 15 dollar\n"
     ]
    }
   ],
   "source": [
    "Age = int(input(\"How old are you? \"))\n",
    "\n",
    "if Age <=3:\n",
    "    print('Your ticket is free enjoy the movie')\n",
    "\n",
    "elif Age<12:\n",
    "    print('the ticket is 10 dollar')\n",
    "\n",
    "elif Age > 12:\n",
    "    print(\" the ticket is 15 dollar\")"
   ]
  },
  {
   "cell_type": "markdown",
   "metadata": {},
   "source": [
    "* Question4:\n",
    "* Write a function called favorite_book() that accepts one parameter, title. The function should print a message, such as One of my favorite books is Alice in Wonderland. Call the function, making sure to include a book title as an argument in the function call"
   ]
  },
  {
   "cell_type": "code",
   "execution_count": 40,
   "metadata": {},
   "outputs": [],
   "source": [
    "def favorite_book(title):\n",
    "    print(title + \" is one of my favorite books.\")"
   ]
  },
  {
   "cell_type": "code",
   "execution_count": 41,
   "metadata": {},
   "outputs": [
    {
     "name": "stdout",
     "output_type": "stream",
     "text": [
      "Python is one of my favorite books.\n"
     ]
    }
   ],
   "source": [
    "favorite_book('Python')"
   ]
  },
  {
   "cell_type": "markdown",
   "metadata": {},
   "source": [
    "* Question5:\n",
    "* Guess the number game\n",
    "* Write a program which randomly generate a number between 1 to 30 and ask the user in input field to guess the correct number. Give three chances to user guess the number and also give hint to user if hidden number is greater or smaller than the number he given to input field."
   ]
  },
  {
   "cell_type": "code",
   "execution_count": 51,
   "metadata": {},
   "outputs": [],
   "source": [
    "from random import randint\n",
    "def guess(x):\n",
    "    y = randint(1,30)\n",
    "    if x == y:\n",
    "        print(\"You got it!\")\n",
    "    elif x > y:\n",
    "        print(\"too high\")\n",
    "    else:\n",
    "        print(\"too low\")"
   ]
  },
  {
   "cell_type": "code",
   "execution_count": 52,
   "metadata": {},
   "outputs": [
    {
     "name": "stdout",
     "output_type": "stream",
     "text": [
      "too low\n"
     ]
    }
   ],
   "source": [
    "guess(1)"
   ]
  },
  {
   "cell_type": "code",
   "execution_count": 53,
   "metadata": {},
   "outputs": [
    {
     "name": "stdout",
     "output_type": "stream",
     "text": [
      "too low\n"
     ]
    }
   ],
   "source": [
    "guess(5)"
   ]
  },
  {
   "cell_type": "code",
   "execution_count": 54,
   "metadata": {},
   "outputs": [
    {
     "name": "stdout",
     "output_type": "stream",
     "text": [
      "too high\n"
     ]
    }
   ],
   "source": [
    "guess(25)"
   ]
  },
  {
   "cell_type": "code",
   "execution_count": 55,
   "metadata": {},
   "outputs": [
    {
     "name": "stdout",
     "output_type": "stream",
     "text": [
      "too high\n"
     ]
    }
   ],
   "source": [
    "guess(30)"
   ]
  }
 ],
 "metadata": {
  "kernelspec": {
   "display_name": "Python 3",
   "language": "python",
   "name": "python3"
  },
  "language_info": {
   "codemirror_mode": {
    "name": "ipython",
    "version": 3
   },
   "file_extension": ".py",
   "mimetype": "text/x-python",
   "name": "python",
   "nbconvert_exporter": "python",
   "pygments_lexer": "ipython3",
   "version": "3.7.1"
  }
 },
 "nbformat": 4,
 "nbformat_minor": 2
}
